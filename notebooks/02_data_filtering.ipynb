{
 "cells": [
  {
   "metadata": {
    "ExecuteTime": {
     "end_time": "2025-08-12T22:19:26.656238Z",
     "start_time": "2025-08-12T22:19:26.610326Z"
    }
   },
   "cell_type": "code",
   "source": [
    "import pandas as pd\n",
    "from sklearn.preprocessing import LabelEncoder"
   ],
   "id": "4f89f31366a85e5e",
   "outputs": [],
   "execution_count": 21
  },
  {
   "metadata": {
    "ExecuteTime": {
     "end_time": "2025-08-12T22:19:30.245867Z",
     "start_time": "2025-08-12T22:19:28.060109Z"
    }
   },
   "cell_type": "code",
   "source": [
    "cleaned_imdb_datasets = pd.read_csv('../data/processed/Cleaned IMDB Dataset.csv')\n",
    "cleaned_imdb_datasets.head(10)"
   ],
   "id": "d16a2a9fab4f0752",
   "outputs": [
    {
     "data": {
      "text/plain": [
       "                                              review sentiment  \\\n",
       "0  one of the other reviewers has mentioned that ...  positive   \n",
       "1  a wonderful little production. <br /><br />the...  positive   \n",
       "2  i thought this was a wonderful way to spend ti...  positive   \n",
       "3  basically there's a family where a little boy ...  negative   \n",
       "4  petter mattei's \"love in the time of money\" is...  positive   \n",
       "5  probably my all-time favorite movie, a story o...  positive   \n",
       "6  i sure would like to see a resurrection of a u...  positive   \n",
       "7  this show was an amazing, fresh & innovative i...  negative   \n",
       "8  encouraged by the positive comments about this...  negative   \n",
       "9  if you like original gut wrenching laughter yo...  positive   \n",
       "\n",
       "                                      cleaned_review  \n",
       "0  one reviewer mentioned watching oz episode you...  \n",
       "1  wonderful little production filming technique ...  \n",
       "2  thought wonderful way spend time hot summer we...  \n",
       "3  basically there family little boy jake think t...  \n",
       "4  petter matteis love time money visually stunni...  \n",
       "5  probably alltime favorite movie story selfless...  \n",
       "6  sure would like see resurrection dated seahunt...  \n",
       "7  show amazing fresh innovative idea first aired...  \n",
       "8  encouraged positive comment film looking forwa...  \n",
       "9  like original gut wrenching laughter like movi...  "
      ],
      "text/html": [
       "<div>\n",
       "<style scoped>\n",
       "    .dataframe tbody tr th:only-of-type {\n",
       "        vertical-align: middle;\n",
       "    }\n",
       "\n",
       "    .dataframe tbody tr th {\n",
       "        vertical-align: top;\n",
       "    }\n",
       "\n",
       "    .dataframe thead th {\n",
       "        text-align: right;\n",
       "    }\n",
       "</style>\n",
       "<table border=\"1\" class=\"dataframe\">\n",
       "  <thead>\n",
       "    <tr style=\"text-align: right;\">\n",
       "      <th></th>\n",
       "      <th>review</th>\n",
       "      <th>sentiment</th>\n",
       "      <th>cleaned_review</th>\n",
       "    </tr>\n",
       "  </thead>\n",
       "  <tbody>\n",
       "    <tr>\n",
       "      <th>0</th>\n",
       "      <td>one of the other reviewers has mentioned that ...</td>\n",
       "      <td>positive</td>\n",
       "      <td>one reviewer mentioned watching oz episode you...</td>\n",
       "    </tr>\n",
       "    <tr>\n",
       "      <th>1</th>\n",
       "      <td>a wonderful little production. &lt;br /&gt;&lt;br /&gt;the...</td>\n",
       "      <td>positive</td>\n",
       "      <td>wonderful little production filming technique ...</td>\n",
       "    </tr>\n",
       "    <tr>\n",
       "      <th>2</th>\n",
       "      <td>i thought this was a wonderful way to spend ti...</td>\n",
       "      <td>positive</td>\n",
       "      <td>thought wonderful way spend time hot summer we...</td>\n",
       "    </tr>\n",
       "    <tr>\n",
       "      <th>3</th>\n",
       "      <td>basically there's a family where a little boy ...</td>\n",
       "      <td>negative</td>\n",
       "      <td>basically there family little boy jake think t...</td>\n",
       "    </tr>\n",
       "    <tr>\n",
       "      <th>4</th>\n",
       "      <td>petter mattei's \"love in the time of money\" is...</td>\n",
       "      <td>positive</td>\n",
       "      <td>petter matteis love time money visually stunni...</td>\n",
       "    </tr>\n",
       "    <tr>\n",
       "      <th>5</th>\n",
       "      <td>probably my all-time favorite movie, a story o...</td>\n",
       "      <td>positive</td>\n",
       "      <td>probably alltime favorite movie story selfless...</td>\n",
       "    </tr>\n",
       "    <tr>\n",
       "      <th>6</th>\n",
       "      <td>i sure would like to see a resurrection of a u...</td>\n",
       "      <td>positive</td>\n",
       "      <td>sure would like see resurrection dated seahunt...</td>\n",
       "    </tr>\n",
       "    <tr>\n",
       "      <th>7</th>\n",
       "      <td>this show was an amazing, fresh &amp; innovative i...</td>\n",
       "      <td>negative</td>\n",
       "      <td>show amazing fresh innovative idea first aired...</td>\n",
       "    </tr>\n",
       "    <tr>\n",
       "      <th>8</th>\n",
       "      <td>encouraged by the positive comments about this...</td>\n",
       "      <td>negative</td>\n",
       "      <td>encouraged positive comment film looking forwa...</td>\n",
       "    </tr>\n",
       "    <tr>\n",
       "      <th>9</th>\n",
       "      <td>if you like original gut wrenching laughter yo...</td>\n",
       "      <td>positive</td>\n",
       "      <td>like original gut wrenching laughter like movi...</td>\n",
       "    </tr>\n",
       "  </tbody>\n",
       "</table>\n",
       "</div>"
      ]
     },
     "execution_count": 22,
     "metadata": {},
     "output_type": "execute_result"
    }
   ],
   "execution_count": 22
  },
  {
   "metadata": {},
   "cell_type": "code",
   "source": [
    "encoder = LabelEncoder()\n",
    "encoded_sentiment = encoder.fit_transform(cleaned_imdb_datasets['sentiment'])\n",
    "# print out the encoded values and its corresponding sentiment\n",
    "print(list(zip(encoded_sentiment, cleaned_imdb_datasets['sentiment'])))"
   ],
   "id": "2a3e4dd72eedadb2",
   "outputs": [],
   "execution_count": null
  },
  {
   "metadata": {
    "ExecuteTime": {
     "end_time": "2025-08-12T22:19:38.299632Z",
     "start_time": "2025-08-12T22:19:38.196055Z"
    }
   },
   "cell_type": "code",
   "source": [
    "cleaned_imdb_datasets['sentiment'] = encoded_sentiment\n",
    "cleaned_imdb_datasets.head(10)"
   ],
   "id": "d3246488393a16fb",
   "outputs": [
    {
     "data": {
      "text/plain": [
       "                                              review  sentiment  \\\n",
       "0  one of the other reviewers has mentioned that ...          1   \n",
       "1  a wonderful little production. <br /><br />the...          1   \n",
       "2  i thought this was a wonderful way to spend ti...          1   \n",
       "3  basically there's a family where a little boy ...          0   \n",
       "4  petter mattei's \"love in the time of money\" is...          1   \n",
       "5  probably my all-time favorite movie, a story o...          1   \n",
       "6  i sure would like to see a resurrection of a u...          1   \n",
       "7  this show was an amazing, fresh & innovative i...          0   \n",
       "8  encouraged by the positive comments about this...          0   \n",
       "9  if you like original gut wrenching laughter yo...          1   \n",
       "\n",
       "                                      cleaned_review  \n",
       "0  one reviewer mentioned watching oz episode you...  \n",
       "1  wonderful little production filming technique ...  \n",
       "2  thought wonderful way spend time hot summer we...  \n",
       "3  basically there family little boy jake think t...  \n",
       "4  petter matteis love time money visually stunni...  \n",
       "5  probably alltime favorite movie story selfless...  \n",
       "6  sure would like see resurrection dated seahunt...  \n",
       "7  show amazing fresh innovative idea first aired...  \n",
       "8  encouraged positive comment film looking forwa...  \n",
       "9  like original gut wrenching laughter like movi...  "
      ],
      "text/html": [
       "<div>\n",
       "<style scoped>\n",
       "    .dataframe tbody tr th:only-of-type {\n",
       "        vertical-align: middle;\n",
       "    }\n",
       "\n",
       "    .dataframe tbody tr th {\n",
       "        vertical-align: top;\n",
       "    }\n",
       "\n",
       "    .dataframe thead th {\n",
       "        text-align: right;\n",
       "    }\n",
       "</style>\n",
       "<table border=\"1\" class=\"dataframe\">\n",
       "  <thead>\n",
       "    <tr style=\"text-align: right;\">\n",
       "      <th></th>\n",
       "      <th>review</th>\n",
       "      <th>sentiment</th>\n",
       "      <th>cleaned_review</th>\n",
       "    </tr>\n",
       "  </thead>\n",
       "  <tbody>\n",
       "    <tr>\n",
       "      <th>0</th>\n",
       "      <td>one of the other reviewers has mentioned that ...</td>\n",
       "      <td>1</td>\n",
       "      <td>one reviewer mentioned watching oz episode you...</td>\n",
       "    </tr>\n",
       "    <tr>\n",
       "      <th>1</th>\n",
       "      <td>a wonderful little production. &lt;br /&gt;&lt;br /&gt;the...</td>\n",
       "      <td>1</td>\n",
       "      <td>wonderful little production filming technique ...</td>\n",
       "    </tr>\n",
       "    <tr>\n",
       "      <th>2</th>\n",
       "      <td>i thought this was a wonderful way to spend ti...</td>\n",
       "      <td>1</td>\n",
       "      <td>thought wonderful way spend time hot summer we...</td>\n",
       "    </tr>\n",
       "    <tr>\n",
       "      <th>3</th>\n",
       "      <td>basically there's a family where a little boy ...</td>\n",
       "      <td>0</td>\n",
       "      <td>basically there family little boy jake think t...</td>\n",
       "    </tr>\n",
       "    <tr>\n",
       "      <th>4</th>\n",
       "      <td>petter mattei's \"love in the time of money\" is...</td>\n",
       "      <td>1</td>\n",
       "      <td>petter matteis love time money visually stunni...</td>\n",
       "    </tr>\n",
       "    <tr>\n",
       "      <th>5</th>\n",
       "      <td>probably my all-time favorite movie, a story o...</td>\n",
       "      <td>1</td>\n",
       "      <td>probably alltime favorite movie story selfless...</td>\n",
       "    </tr>\n",
       "    <tr>\n",
       "      <th>6</th>\n",
       "      <td>i sure would like to see a resurrection of a u...</td>\n",
       "      <td>1</td>\n",
       "      <td>sure would like see resurrection dated seahunt...</td>\n",
       "    </tr>\n",
       "    <tr>\n",
       "      <th>7</th>\n",
       "      <td>this show was an amazing, fresh &amp; innovative i...</td>\n",
       "      <td>0</td>\n",
       "      <td>show amazing fresh innovative idea first aired...</td>\n",
       "    </tr>\n",
       "    <tr>\n",
       "      <th>8</th>\n",
       "      <td>encouraged by the positive comments about this...</td>\n",
       "      <td>0</td>\n",
       "      <td>encouraged positive comment film looking forwa...</td>\n",
       "    </tr>\n",
       "    <tr>\n",
       "      <th>9</th>\n",
       "      <td>if you like original gut wrenching laughter yo...</td>\n",
       "      <td>1</td>\n",
       "      <td>like original gut wrenching laughter like movi...</td>\n",
       "    </tr>\n",
       "  </tbody>\n",
       "</table>\n",
       "</div>"
      ]
     },
     "execution_count": 24,
     "metadata": {},
     "output_type": "execute_result"
    }
   ],
   "execution_count": 24
  },
  {
   "metadata": {
    "ExecuteTime": {
     "end_time": "2025-08-12T21:49:37.170115Z",
     "start_time": "2025-08-12T21:49:37.159622Z"
    }
   },
   "cell_type": "markdown",
   "source": "## keep only words with non-neutral sentiment",
   "id": "84e7ffec0286b042"
  },
  {
   "metadata": {
    "ExecuteTime": {
     "end_time": "2025-08-12T22:19:43.704700Z",
     "start_time": "2025-08-12T22:19:43.605302Z"
    }
   },
   "cell_type": "code",
   "source": [
    "import nltk\n",
    "from nltk.sentiment.vader import SentimentIntensityAnalyzer\n",
    "\n",
    "nltk.download('vader_lexicon')\n",
    "sentiment_analyzer = SentimentIntensityAnalyzer()"
   ],
   "id": "ac872acc03fd24a0",
   "outputs": [
    {
     "name": "stderr",
     "output_type": "stream",
     "text": [
      "[nltk_data] Downloading package vader_lexicon to\n",
      "[nltk_data]     /Users/user/nltk_data...\n",
      "[nltk_data]   Package vader_lexicon is already up-to-date!\n"
     ]
    }
   ],
   "execution_count": 25
  },
  {
   "metadata": {
    "ExecuteTime": {
     "end_time": "2025-08-12T22:19:45.991655Z",
     "start_time": "2025-08-12T22:19:45.983047Z"
    }
   },
   "cell_type": "code",
   "source": [
    "def keep_sentiment_words(text):\n",
    "    sentiment_words = []\n",
    "    for word in text.split():\n",
    "        polarity = sentiment_analyzer.polarity_scores(word)['compound']\n",
    "        if abs(polarity) > 0.1:\n",
    "            sentiment_words.append(word)\n",
    "    return ' '.join(sentiment_words)\n"
   ],
   "id": "72bf7efdb5648dbc",
   "outputs": [],
   "execution_count": 26
  },
  {
   "metadata": {
    "ExecuteTime": {
     "end_time": "2025-08-12T22:24:23.636366Z",
     "start_time": "2025-08-12T22:19:55.172706Z"
    }
   },
   "cell_type": "code",
   "source": [
    "cleaned_imdb_datasets['sentiment_text'] = cleaned_imdb_datasets['cleaned_review'].apply(keep_sentiment_words)\n",
    "cleaned_imdb_datasets.head(10)"
   ],
   "id": "eb089aea442c2563",
   "outputs": [
    {
     "data": {
      "text/plain": [
       "                                              review  sentiment  \\\n",
       "0  one of the other reviewers has mentioned that ...          1   \n",
       "1  a wonderful little production. <br /><br />the...          1   \n",
       "2  i thought this was a wonderful way to spend ti...          1   \n",
       "3  basically there's a family where a little boy ...          0   \n",
       "4  petter mattei's \"love in the time of money\" is...          1   \n",
       "5  probably my all-time favorite movie, a story o...          1   \n",
       "6  i sure would like to see a resurrection of a u...          1   \n",
       "7  this show was an amazing, fresh & innovative i...          0   \n",
       "8  encouraged by the positive comments about this...          0   \n",
       "9  if you like original gut wrenching laughter yo...          1   \n",
       "\n",
       "                                      cleaned_review  \\\n",
       "0  one reviewer mentioned watching oz episode you...   \n",
       "1  wonderful little production filming technique ...   \n",
       "2  thought wonderful way spend time hot summer we...   \n",
       "3  basically there family little boy jake think t...   \n",
       "4  petter matteis love time money visually stunni...   \n",
       "5  probably alltime favorite movie story selfless...   \n",
       "6  sure would like see resurrection dated seahunt...   \n",
       "7  show amazing fresh innovative idea first aired...   \n",
       "8  encouraged positive comment film looking forwa...   \n",
       "9  like original gut wrenching laughter like movi...   \n",
       "\n",
       "                                      sentiment_text  \n",
       "0  struck brutality violence trust timid violence...  \n",
       "1  wonderful comforting discomforting well truly ...  \n",
       "2  wonderful lighthearted comedy well suspected k...  \n",
       "3  fighting kill thriller arguing like ruin meani...  \n",
       "4  love stunning success play sophisticated lonel...  \n",
       "5  favorite noble boring truly sympathetic deligh...  \n",
       "6    sure like excitement hero thank like nice doubt  \n",
       "7  amazing fresh innovative brilliant funny waste...  \n",
       "8  encouraged positive bad mistake truly worst aw...  \n",
       "9        like original laughter like love hell liked  "
      ],
      "text/html": [
       "<div>\n",
       "<style scoped>\n",
       "    .dataframe tbody tr th:only-of-type {\n",
       "        vertical-align: middle;\n",
       "    }\n",
       "\n",
       "    .dataframe tbody tr th {\n",
       "        vertical-align: top;\n",
       "    }\n",
       "\n",
       "    .dataframe thead th {\n",
       "        text-align: right;\n",
       "    }\n",
       "</style>\n",
       "<table border=\"1\" class=\"dataframe\">\n",
       "  <thead>\n",
       "    <tr style=\"text-align: right;\">\n",
       "      <th></th>\n",
       "      <th>review</th>\n",
       "      <th>sentiment</th>\n",
       "      <th>cleaned_review</th>\n",
       "      <th>sentiment_text</th>\n",
       "    </tr>\n",
       "  </thead>\n",
       "  <tbody>\n",
       "    <tr>\n",
       "      <th>0</th>\n",
       "      <td>one of the other reviewers has mentioned that ...</td>\n",
       "      <td>1</td>\n",
       "      <td>one reviewer mentioned watching oz episode you...</td>\n",
       "      <td>struck brutality violence trust timid violence...</td>\n",
       "    </tr>\n",
       "    <tr>\n",
       "      <th>1</th>\n",
       "      <td>a wonderful little production. &lt;br /&gt;&lt;br /&gt;the...</td>\n",
       "      <td>1</td>\n",
       "      <td>wonderful little production filming technique ...</td>\n",
       "      <td>wonderful comforting discomforting well truly ...</td>\n",
       "    </tr>\n",
       "    <tr>\n",
       "      <th>2</th>\n",
       "      <td>i thought this was a wonderful way to spend ti...</td>\n",
       "      <td>1</td>\n",
       "      <td>thought wonderful way spend time hot summer we...</td>\n",
       "      <td>wonderful lighthearted comedy well suspected k...</td>\n",
       "    </tr>\n",
       "    <tr>\n",
       "      <th>3</th>\n",
       "      <td>basically there's a family where a little boy ...</td>\n",
       "      <td>0</td>\n",
       "      <td>basically there family little boy jake think t...</td>\n",
       "      <td>fighting kill thriller arguing like ruin meani...</td>\n",
       "    </tr>\n",
       "    <tr>\n",
       "      <th>4</th>\n",
       "      <td>petter mattei's \"love in the time of money\" is...</td>\n",
       "      <td>1</td>\n",
       "      <td>petter matteis love time money visually stunni...</td>\n",
       "      <td>love stunning success play sophisticated lonel...</td>\n",
       "    </tr>\n",
       "    <tr>\n",
       "      <th>5</th>\n",
       "      <td>probably my all-time favorite movie, a story o...</td>\n",
       "      <td>1</td>\n",
       "      <td>probably alltime favorite movie story selfless...</td>\n",
       "      <td>favorite noble boring truly sympathetic deligh...</td>\n",
       "    </tr>\n",
       "    <tr>\n",
       "      <th>6</th>\n",
       "      <td>i sure would like to see a resurrection of a u...</td>\n",
       "      <td>1</td>\n",
       "      <td>sure would like see resurrection dated seahunt...</td>\n",
       "      <td>sure like excitement hero thank like nice doubt</td>\n",
       "    </tr>\n",
       "    <tr>\n",
       "      <th>7</th>\n",
       "      <td>this show was an amazing, fresh &amp; innovative i...</td>\n",
       "      <td>0</td>\n",
       "      <td>show amazing fresh innovative idea first aired...</td>\n",
       "      <td>amazing fresh innovative brilliant funny waste...</td>\n",
       "    </tr>\n",
       "    <tr>\n",
       "      <th>8</th>\n",
       "      <td>encouraged by the positive comments about this...</td>\n",
       "      <td>0</td>\n",
       "      <td>encouraged positive comment film looking forwa...</td>\n",
       "      <td>encouraged positive bad mistake truly worst aw...</td>\n",
       "    </tr>\n",
       "    <tr>\n",
       "      <th>9</th>\n",
       "      <td>if you like original gut wrenching laughter yo...</td>\n",
       "      <td>1</td>\n",
       "      <td>like original gut wrenching laughter like movi...</td>\n",
       "      <td>like original laughter like love hell liked</td>\n",
       "    </tr>\n",
       "  </tbody>\n",
       "</table>\n",
       "</div>"
      ]
     },
     "execution_count": 27,
     "metadata": {},
     "output_type": "execute_result"
    }
   ],
   "execution_count": 27
  },
  {
   "metadata": {
    "ExecuteTime": {
     "end_time": "2025-08-12T22:24:31.488059Z",
     "start_time": "2025-08-12T22:24:31.444490Z"
    }
   },
   "cell_type": "code",
   "source": [
    "# Compare original vs. sentiment-filtered text\n",
    "print(\"Original:\", cleaned_imdb_datasets['cleaned_review'].iloc[0])\n",
    "print(\"Filtered:\", cleaned_imdb_datasets['sentiment_text'].iloc[0])"
   ],
   "id": "856b7e73af3ac742",
   "outputs": [
    {
     "name": "stdout",
     "output_type": "stream",
     "text": [
      "Original: one reviewer mentioned watching oz episode youll hooked right exactly happened methe first thing struck oz brutality unflinching scene violence set right word go trust show faint hearted timid show pull punch regard drug sex violence hardcore classic use wordit called oz nickname given oswald maximum security state penitentary focus mainly emerald city experimental section prison cell glass front face inwards privacy high agenda em city home manyaryans muslim gangsta latino christian italian irish moreso scuffle death stare dodgy dealing shady agreement never far awayi would say main appeal show due fact go show wouldnt dare forget pretty picture painted mainstream audience forget charm forget romanceoz doesnt mess around first episode ever saw struck nasty surreal couldnt say ready watched developed taste oz got accustomed high level graphic violence violence injustice crooked guard wholl sold nickel inmate wholl kill order get away well mannered middle class inmate turned prison bitch due lack street skill prison experience watching oz may become comfortable uncomfortable viewingthats get touch darker side\n",
      "Filtered: struck brutality violence trust timid violence security prison death dodgy agreement forget pretty forget charm forget mess struck nasty ready violence violence injustice kill well prison bitch lack prison comfortable uncomfortable\n"
     ]
    }
   ],
   "execution_count": 28
  },
  {
   "metadata": {
    "ExecuteTime": {
     "end_time": "2025-08-12T22:24:41.281009Z",
     "start_time": "2025-08-12T22:24:37.346859Z"
    }
   },
   "cell_type": "code",
   "source": [
    "# save the resulted data in a new csv file\n",
    "cleaned_imdb_datasets.to_csv('../data/processed/Cleaned IMDB Dataset with Sentiment.csv', index=False)"
   ],
   "id": "ab6399facebc3694",
   "outputs": [],
   "execution_count": 29
  },
  {
   "metadata": {},
   "cell_type": "code",
   "outputs": [],
   "execution_count": null,
   "source": "",
   "id": "b7ed63ac4b700e84"
  }
 ],
 "metadata": {
  "language_info": {
   "name": "python"
  },
  "kernelspec": {
   "name": "python3",
   "language": "python",
   "display_name": "Python 3 (ipykernel)"
  }
 },
 "nbformat": 4,
 "nbformat_minor": 5
}
