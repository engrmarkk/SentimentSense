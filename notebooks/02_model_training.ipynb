{
 "cells": [
  {
   "metadata": {
    "ExecuteTime": {
     "end_time": "2025-08-12T22:24:51.094841Z",
     "start_time": "2025-08-12T22:24:48.430859Z"
    }
   },
   "cell_type": "code",
   "source": [
    "import pandas as pd\n",
    "\n",
    "# final datasets\n",
    "final_imdb_datasets = pd.read_csv('../data/processed/Cleaned IMDB Dataset with Sentiment.csv')\n",
    "final_imdb_datasets.head(10)"
   ],
   "id": "e562210032795354",
   "outputs": [
    {
     "data": {
      "text/plain": [
       "                                              review  sentiment  \\\n",
       "0  one of the other reviewers has mentioned that ...          1   \n",
       "1  a wonderful little production. <br /><br />the...          1   \n",
       "2  i thought this was a wonderful way to spend ti...          1   \n",
       "3  basically there's a family where a little boy ...          0   \n",
       "4  petter mattei's \"love in the time of money\" is...          1   \n",
       "5  probably my all-time favorite movie, a story o...          1   \n",
       "6  i sure would like to see a resurrection of a u...          1   \n",
       "7  this show was an amazing, fresh & innovative i...          0   \n",
       "8  encouraged by the positive comments about this...          0   \n",
       "9  if you like original gut wrenching laughter yo...          1   \n",
       "\n",
       "                                      cleaned_review  \\\n",
       "0  one reviewer mentioned watching oz episode you...   \n",
       "1  wonderful little production filming technique ...   \n",
       "2  thought wonderful way spend time hot summer we...   \n",
       "3  basically there family little boy jake think t...   \n",
       "4  petter matteis love time money visually stunni...   \n",
       "5  probably alltime favorite movie story selfless...   \n",
       "6  sure would like see resurrection dated seahunt...   \n",
       "7  show amazing fresh innovative idea first aired...   \n",
       "8  encouraged positive comment film looking forwa...   \n",
       "9  like original gut wrenching laughter like movi...   \n",
       "\n",
       "                                      sentiment_text  \n",
       "0  struck brutality violence trust timid violence...  \n",
       "1  wonderful comforting discomforting well truly ...  \n",
       "2  wonderful lighthearted comedy well suspected k...  \n",
       "3  fighting kill thriller arguing like ruin meani...  \n",
       "4  love stunning success play sophisticated lonel...  \n",
       "5  favorite noble boring truly sympathetic deligh...  \n",
       "6    sure like excitement hero thank like nice doubt  \n",
       "7  amazing fresh innovative brilliant funny waste...  \n",
       "8  encouraged positive bad mistake truly worst aw...  \n",
       "9        like original laughter like love hell liked  "
      ],
      "text/html": [
       "<div>\n",
       "<style scoped>\n",
       "    .dataframe tbody tr th:only-of-type {\n",
       "        vertical-align: middle;\n",
       "    }\n",
       "\n",
       "    .dataframe tbody tr th {\n",
       "        vertical-align: top;\n",
       "    }\n",
       "\n",
       "    .dataframe thead th {\n",
       "        text-align: right;\n",
       "    }\n",
       "</style>\n",
       "<table border=\"1\" class=\"dataframe\">\n",
       "  <thead>\n",
       "    <tr style=\"text-align: right;\">\n",
       "      <th></th>\n",
       "      <th>review</th>\n",
       "      <th>sentiment</th>\n",
       "      <th>cleaned_review</th>\n",
       "      <th>sentiment_text</th>\n",
       "    </tr>\n",
       "  </thead>\n",
       "  <tbody>\n",
       "    <tr>\n",
       "      <th>0</th>\n",
       "      <td>one of the other reviewers has mentioned that ...</td>\n",
       "      <td>1</td>\n",
       "      <td>one reviewer mentioned watching oz episode you...</td>\n",
       "      <td>struck brutality violence trust timid violence...</td>\n",
       "    </tr>\n",
       "    <tr>\n",
       "      <th>1</th>\n",
       "      <td>a wonderful little production. &lt;br /&gt;&lt;br /&gt;the...</td>\n",
       "      <td>1</td>\n",
       "      <td>wonderful little production filming technique ...</td>\n",
       "      <td>wonderful comforting discomforting well truly ...</td>\n",
       "    </tr>\n",
       "    <tr>\n",
       "      <th>2</th>\n",
       "      <td>i thought this was a wonderful way to spend ti...</td>\n",
       "      <td>1</td>\n",
       "      <td>thought wonderful way spend time hot summer we...</td>\n",
       "      <td>wonderful lighthearted comedy well suspected k...</td>\n",
       "    </tr>\n",
       "    <tr>\n",
       "      <th>3</th>\n",
       "      <td>basically there's a family where a little boy ...</td>\n",
       "      <td>0</td>\n",
       "      <td>basically there family little boy jake think t...</td>\n",
       "      <td>fighting kill thriller arguing like ruin meani...</td>\n",
       "    </tr>\n",
       "    <tr>\n",
       "      <th>4</th>\n",
       "      <td>petter mattei's \"love in the time of money\" is...</td>\n",
       "      <td>1</td>\n",
       "      <td>petter matteis love time money visually stunni...</td>\n",
       "      <td>love stunning success play sophisticated lonel...</td>\n",
       "    </tr>\n",
       "    <tr>\n",
       "      <th>5</th>\n",
       "      <td>probably my all-time favorite movie, a story o...</td>\n",
       "      <td>1</td>\n",
       "      <td>probably alltime favorite movie story selfless...</td>\n",
       "      <td>favorite noble boring truly sympathetic deligh...</td>\n",
       "    </tr>\n",
       "    <tr>\n",
       "      <th>6</th>\n",
       "      <td>i sure would like to see a resurrection of a u...</td>\n",
       "      <td>1</td>\n",
       "      <td>sure would like see resurrection dated seahunt...</td>\n",
       "      <td>sure like excitement hero thank like nice doubt</td>\n",
       "    </tr>\n",
       "    <tr>\n",
       "      <th>7</th>\n",
       "      <td>this show was an amazing, fresh &amp; innovative i...</td>\n",
       "      <td>0</td>\n",
       "      <td>show amazing fresh innovative idea first aired...</td>\n",
       "      <td>amazing fresh innovative brilliant funny waste...</td>\n",
       "    </tr>\n",
       "    <tr>\n",
       "      <th>8</th>\n",
       "      <td>encouraged by the positive comments about this...</td>\n",
       "      <td>0</td>\n",
       "      <td>encouraged positive comment film looking forwa...</td>\n",
       "      <td>encouraged positive bad mistake truly worst aw...</td>\n",
       "    </tr>\n",
       "    <tr>\n",
       "      <th>9</th>\n",
       "      <td>if you like original gut wrenching laughter yo...</td>\n",
       "      <td>1</td>\n",
       "      <td>like original gut wrenching laughter like movi...</td>\n",
       "      <td>like original laughter like love hell liked</td>\n",
       "    </tr>\n",
       "  </tbody>\n",
       "</table>\n",
       "</div>"
      ]
     },
     "execution_count": 1,
     "metadata": {},
     "output_type": "execute_result"
    }
   ],
   "execution_count": 1
  },
  {
   "metadata": {
    "ExecuteTime": {
     "end_time": "2025-08-12T22:25:47.556858Z",
     "start_time": "2025-08-12T22:25:43.768487Z"
    }
   },
   "cell_type": "code",
   "source": [
    "from sklearn.feature_extraction.text import TfidfVectorizer\n",
    "from sklearn.model_selection import train_test_split\n",
    "\n",
    "X = final_imdb_datasets['sentiment_text']\n",
    "y = final_imdb_datasets['sentiment']\n",
    "X_train, X_test, y_train, y_test = train_test_split(X, y, test_size=0.2, random_state=42)"
   ],
   "id": "9d19b11953040cc0",
   "outputs": [],
   "execution_count": 2
  },
  {
   "metadata": {
    "ExecuteTime": {
     "end_time": "2025-08-12T22:29:44.724563Z",
     "start_time": "2025-08-12T22:29:44.610610Z"
    }
   },
   "cell_type": "code",
   "source": [
    "# Step 1: Drop NaN values\n",
    "X_train = X_train.dropna()\n",
    "y_train = y_train[X_train.index]\n",
    "\n",
    "X_test = X_test.dropna()\n",
    "y_test = y_test[X_test.index]"
   ],
   "id": "2b06b9b439c847bd",
   "outputs": [],
   "execution_count": 8
  },
  {
   "metadata": {
    "ExecuteTime": {
     "end_time": "2025-08-12T22:30:15.610060Z",
     "start_time": "2025-08-12T22:30:13.135005Z"
    }
   },
   "cell_type": "code",
   "source": [
    "vectorizer = TfidfVectorizer(max_features=5000)\n",
    "X_train_vec = vectorizer.fit_transform(X_train)\n",
    "X_test_vec = vectorizer.transform(X_test)"
   ],
   "id": "88e4a47edec9073a",
   "outputs": [],
   "execution_count": 9
  },
  {
   "metadata": {
    "ExecuteTime": {
     "end_time": "2025-08-12T22:30:21.266843Z",
     "start_time": "2025-08-12T22:30:20.988439Z"
    }
   },
   "cell_type": "code",
   "source": [
    "from sklearn.linear_model import LogisticRegression\n",
    "from sklearn.metrics import accuracy_score"
   ],
   "id": "1617770db15c3ce5",
   "outputs": [],
   "execution_count": 10
  },
  {
   "metadata": {
    "ExecuteTime": {
     "end_time": "2025-08-12T22:30:46.242244Z",
     "start_time": "2025-08-12T22:30:45.583921Z"
    }
   },
   "cell_type": "code",
   "source": [
    "model = LogisticRegression(max_iter=1000)\n",
    "model.fit(X_train_vec, y_train)\n",
    "y_pred = model.predict(X_test_vec)"
   ],
   "id": "97f05b10fac0331d",
   "outputs": [],
   "execution_count": 11
  },
  {
   "metadata": {
    "ExecuteTime": {
     "end_time": "2025-08-12T22:30:58.640699Z",
     "start_time": "2025-08-12T22:30:58.598088Z"
    }
   },
   "cell_type": "code",
   "source": "y_pred",
   "id": "1dc84649d665a988",
   "outputs": [
    {
     "data": {
      "text/plain": [
       "array([0, 1, 1, ..., 1, 0, 1], shape=(9998,))"
      ]
     },
     "execution_count": 12,
     "metadata": {},
     "output_type": "execute_result"
    }
   ],
   "execution_count": 12
  },
  {
   "metadata": {
    "ExecuteTime": {
     "end_time": "2025-08-12T22:31:07.595409Z",
     "start_time": "2025-08-12T22:31:07.582001Z"
    }
   },
   "cell_type": "code",
   "source": [
    "accuracy = accuracy_score(y_test, y_pred)\n",
    "print(\"Accuracy:\", accuracy)"
   ],
   "id": "41a50b02c2329e55",
   "outputs": [
    {
     "name": "stdout",
     "output_type": "stream",
     "text": [
      "Accuracy: 0.8468693738747749\n"
     ]
    }
   ],
   "execution_count": 13
  },
  {
   "metadata": {},
   "cell_type": "code",
   "outputs": [],
   "execution_count": null,
   "source": "",
   "id": "86c76b9cd0223f6e"
  }
 ],
 "metadata": {
  "kernelspec": {
   "name": "python3",
   "language": "python",
   "display_name": "Python 3 (ipykernel)"
  }
 },
 "nbformat": 4,
 "nbformat_minor": 5
}
